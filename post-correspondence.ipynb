{
 "cells": [
  {
   "cell_type": "markdown",
   "id": "a58e1bad-6e21-44c4-b78f-a7d8ed3dc04e",
   "metadata": {},
   "source": [
    "# Post Correspondence Problem\n",
    "\n",
    "The [<b>Post Correspondence Problem</b>](https://en.wikipedia.org/wiki/Post_correspondence_problem) is a popular indecidable problem that was introduced by Emil Leon Post in 1946. "
   ]
  },
  {
   "cell_type": "markdown",
   "id": "b96dff67-b101-4f30-bcc3-d0fa438f936f",
   "metadata": {},
   "source": [
    "## The Problem\n",
    "\n",
    "Lets assume we have two lists both containing $N$ words. The aim is to find out a concatenation of these words in some sequence so both lists yield the same result.\n",
    "\n",
    "Let us try understand this by taking two lists <b>L1</b> and <b>L2</b>"
   ]
  },
  {
   "cell_type": "code",
   "execution_count": 3,
   "id": "4beceebd-58a3-42da-8bdf-aa7d1606c834",
   "metadata": {},
   "outputs": [],
   "source": [
    "L1 = ['aa', 'bb', 'abb']\n",
    "L2 = ['aab', 'ba', 'b']"
   ]
  },
  {
   "cell_type": "markdown",
   "id": "2dd21339-a0d4-42ac-a31e-6f0f490ade65",
   "metadata": {},
   "source": [
    "Looking at these lists we can see that none of the lists have corresponding stored values. However, by using a sequence $S$ which is a list of indices, we can see that both of these lists actually do correspond to each other."
   ]
  },
  {
   "cell_type": "code",
   "execution_count": 7,
   "id": "01ed9c9c-5efc-4d83-8546-9e38bfd102f4",
   "metadata": {},
   "outputs": [],
   "source": [
    "# Sequence for lists above.\n",
    "S = [0, 1, 0, 2]"
   ]
  },
  {
   "cell_type": "markdown",
   "id": "263a8018-8ce4-407c-a808-26ab237ea63c",
   "metadata": {},
   "source": [
    "If I apply the sequence above to both lists, we should get the same output."
   ]
  },
  {
   "cell_type": "code",
   "execution_count": 8,
   "id": "0dd11e1c-63b3-4993-ab98-ffe7265ad7b6",
   "metadata": {},
   "outputs": [],
   "source": [
    "# Apply the proposed solution to each list.\n",
    "def apply(S, L):\n",
    "    S_on_L = [''.join(L[i]) for i in S]\n",
    "    return ''.join(S_on_L)"
   ]
  },
  {
   "cell_type": "code",
   "execution_count": 11,
   "id": "609a1249-4437-4be2-9433-5edbc54d17c9",
   "metadata": {},
   "outputs": [
    {
     "data": {
      "text/plain": [
       "'aabbaaabb'"
      ]
     },
     "execution_count": 11,
     "metadata": {},
     "output_type": "execute_result"
    }
   ],
   "source": [
    "# Apply sequence to first list.\n",
    "apply(S, L1)"
   ]
  },
  {
   "cell_type": "code",
   "execution_count": 12,
   "id": "49439c1f-fbbf-4331-9059-e6d13a6753cf",
   "metadata": {},
   "outputs": [
    {
     "data": {
      "text/plain": [
       "'aabbaaabb'"
      ]
     },
     "execution_count": 12,
     "metadata": {},
     "output_type": "execute_result"
    }
   ],
   "source": [
    "# Apply sequence to second list.\n",
    "apply(S, L2)"
   ]
  },
  {
   "cell_type": "markdown",
   "id": "3f0122ee-0856-4566-ba24-5c1ac3d424e0",
   "metadata": {},
   "source": [
    "Both of these outputs look the same, but to verify we will compare them."
   ]
  },
  {
   "cell_type": "code",
   "execution_count": 13,
   "id": "df407ac1-39d0-4251-abe9-200e1b35f585",
   "metadata": {},
   "outputs": [
    {
     "data": {
      "text/plain": [
       "True"
      ]
     },
     "execution_count": 13,
     "metadata": {},
     "output_type": "execute_result"
    }
   ],
   "source": [
    "apply(S, L1) == apply(S, L2)"
   ]
  },
  {
   "cell_type": "markdown",
   "id": "7d937416-5b43-4cb3-aa99-dba74e431467",
   "metadata": {},
   "source": [
    "As we can see, the result is the same. Therefore, L1 corresponds to L2."
   ]
  },
  {
   "cell_type": "markdown",
   "id": "50d9484d-6c6b-4d8e-8ad2-44e38a7d95ba",
   "metadata": {},
   "source": [
    "### What if the lists don't correspond?\n",
    "\n",
    "Let's create two lists."
   ]
  },
  {
   "cell_type": "code",
   "execution_count": 14,
   "id": "ad487812-0589-49c9-bad8-64ea2b83aae8",
   "metadata": {},
   "outputs": [],
   "source": [
    "L3 = ['ab', 'bba']\n",
    "L4 = ['aa', 'bb']"
   ]
  },
  {
   "cell_type": "markdown",
   "id": "151b0f85-fe82-4698-b49f-e26f71a5058b",
   "metadata": {},
   "source": [
    "How do we check if these correspond to each other?\n",
    "\n",
    "The problem is $S$ can be an infinite length. This means that proving if two lists correspond is a very difficult task as you could have a loop that runs forever"
   ]
  },
  {
   "cell_type": "markdown",
   "id": "286b4018-944a-4e60-ae2b-97176c64d990",
   "metadata": {},
   "source": [
    "# Bounded Post Correspondence Problem\n",
    "\n",
    "The Bounded Post Correspondence Problem is a variant of the [Post Correspondence Problem](https://en.wikipedia.org/wiki/Post_correspondence_problem). \n",
    "\n",
    "Given a list of strings, determine whether we can create two identical strings given a maximum length of $k$ elements.\n",
    "\n",
    "$$ |S| \\leq K \\qquad K \\in \\mathbb{N} $$"
   ]
  },
  {
   "cell_type": "markdown",
   "id": "b8083ca3-9962-4650-9519-cc1aef2bce89",
   "metadata": {},
   "source": [
    "## Setup"
   ]
  },
  {
   "cell_type": "code",
   "execution_count": null,
   "id": "f1a3b91b-4f81-49e8-a9c3-7da13ac5ff69",
   "metadata": {},
   "outputs": [],
   "source": [
    "from itertools import product"
   ]
  },
  {
   "cell_type": "code",
   "execution_count": null,
   "id": "1537a004-bf90-4f3d-adaf-71fecb30d29b",
   "metadata": {},
   "outputs": [],
   "source": [
    "A = ['a', 'b']"
   ]
  },
  {
   "cell_type": "code",
   "execution_count": null,
   "id": "328eb45a-eaad-4134-ada7-eee7dba230c9",
   "metadata": {},
   "outputs": [],
   "source": [
    "L1 = ['a', 'ab', 'bba']"
   ]
  },
  {
   "cell_type": "code",
   "execution_count": null,
   "id": "701c3f9b-17ce-45ef-a64d-4884edab2526",
   "metadata": {},
   "outputs": [],
   "source": [
    "L2 = ['baa', 'aa', 'bb']"
   ]
  },
  {
   "cell_type": "code",
   "execution_count": null,
   "id": "84ca52f3-a252-4d9a-887d-a7ff2626a102",
   "metadata": {},
   "outputs": [],
   "source": [
    "L3 = ['0101', '11', '101']"
   ]
  },
  {
   "cell_type": "code",
   "execution_count": null,
   "id": "85136a88-4e59-40fd-aeaa-ee2728c4848f",
   "metadata": {},
   "outputs": [],
   "source": [
    "L4 = ['11101', '10', '10101']"
   ]
  },
  {
   "cell_type": "markdown",
   "id": "4a8540b5-62d9-4c59-a12e-66fa42b326fd",
   "metadata": {},
   "source": [
    "## Get the Cartesian Product\n",
    "\n",
    "The [Cartesian Product](https://en.wikipedia.org/wiki/Cartesian_product) is a set that is constructed from two given sets and comprises all pairs of elements, which means it gets all possible combinations of the given two sets.\n",
    "\n",
    "The function below gets all the possible cartesian products of $l$, but it only does so $k$ times."
   ]
  },
  {
   "cell_type": "code",
   "execution_count": null,
   "id": "34617541-6ac6-44c0-8d86-6f17887cd474",
   "metadata": {},
   "outputs": [],
   "source": [
    "def cartesian_product(l, K):\n",
    "    l1 = []\n",
    "    # Find the cartesian product of list\n",
    "    for i in range(1, K+1): # Add 1 to k as range goes up to the second paramater\n",
    "        for roll in product(l, repeat = i):\n",
    "            joined_roll=''.join(roll)\n",
    "            # Use hashing to make it more efficient\n",
    "            l1.append(hash(joined_roll))\n",
    "    return l1"
   ]
  },
  {
   "cell_type": "code",
   "execution_count": null,
   "id": "7ad8884a-cc79-499e-b7ad-19f206bfcd73",
   "metadata": {},
   "outputs": [],
   "source": [
    "def bpcp_solver(L1, L2, K):\n",
    "    for x in cartesian_product(L1, K):\n",
    "        for y in cartesian_product(L2, K):\n",
    "            if x==y:\n",
    "                return True\n",
    "    return False"
   ]
  },
  {
   "cell_type": "code",
   "execution_count": null,
   "id": "cca599f0-8471-4974-8637-0e9781dda3c4",
   "metadata": {},
   "outputs": [
    {
     "ename": "TypeError",
     "evalue": "sequence item 0: expected str instance, tuple found",
     "output_type": "error",
     "traceback": [
      "\u001b[1;31m---------------------------------------------------------------------------\u001b[0m",
      "\u001b[1;31mTypeError\u001b[0m                                 Traceback (most recent call last)",
      "\u001b[1;32m~\\AppData\\Local\\Temp/ipykernel_9828/2903847614.py\u001b[0m in \u001b[0;36m<module>\u001b[1;34m\u001b[0m\n\u001b[1;32m----> 1\u001b[1;33m \u001b[0mprint\u001b[0m\u001b[1;33m(\u001b[0m\u001b[0mbpcp_solver\u001b[0m\u001b[1;33m(\u001b[0m\u001b[0mL1\u001b[0m\u001b[1;33m,\u001b[0m \u001b[0mL2\u001b[0m\u001b[1;33m,\u001b[0m \u001b[1;36m3\u001b[0m\u001b[1;33m)\u001b[0m\u001b[1;33m)\u001b[0m\u001b[1;33m\u001b[0m\u001b[1;33m\u001b[0m\u001b[0m\n\u001b[0m",
      "\u001b[1;32m~\\AppData\\Local\\Temp/ipykernel_9828/2155970144.py\u001b[0m in \u001b[0;36mbpcp_solver\u001b[1;34m(L1, L2, K)\u001b[0m\n\u001b[0;32m      1\u001b[0m \u001b[1;32mdef\u001b[0m \u001b[0mbpcp_solver\u001b[0m\u001b[1;33m(\u001b[0m\u001b[0mL1\u001b[0m\u001b[1;33m,\u001b[0m \u001b[0mL2\u001b[0m\u001b[1;33m,\u001b[0m \u001b[0mK\u001b[0m\u001b[1;33m)\u001b[0m\u001b[1;33m:\u001b[0m\u001b[1;33m\u001b[0m\u001b[1;33m\u001b[0m\u001b[0m\n\u001b[1;32m----> 2\u001b[1;33m     \u001b[1;32mfor\u001b[0m \u001b[0mx\u001b[0m \u001b[1;32min\u001b[0m \u001b[0mcartesian_product\u001b[0m\u001b[1;33m(\u001b[0m\u001b[0mL1\u001b[0m\u001b[1;33m,\u001b[0m \u001b[0mK\u001b[0m\u001b[1;33m)\u001b[0m\u001b[1;33m:\u001b[0m\u001b[1;33m\u001b[0m\u001b[1;33m\u001b[0m\u001b[0m\n\u001b[0m\u001b[0;32m      3\u001b[0m         \u001b[1;32mfor\u001b[0m \u001b[0my\u001b[0m \u001b[1;32min\u001b[0m \u001b[0mcartesian_product\u001b[0m\u001b[1;33m(\u001b[0m\u001b[0mL2\u001b[0m\u001b[1;33m,\u001b[0m \u001b[0mK\u001b[0m\u001b[1;33m)\u001b[0m\u001b[1;33m:\u001b[0m\u001b[1;33m\u001b[0m\u001b[1;33m\u001b[0m\u001b[0m\n\u001b[0;32m      4\u001b[0m             \u001b[1;32mif\u001b[0m \u001b[0mx\u001b[0m\u001b[1;33m==\u001b[0m\u001b[0my\u001b[0m\u001b[1;33m:\u001b[0m\u001b[1;33m\u001b[0m\u001b[1;33m\u001b[0m\u001b[0m\n\u001b[0;32m      5\u001b[0m                 \u001b[1;32mreturn\u001b[0m \u001b[1;32mTrue\u001b[0m\u001b[1;33m\u001b[0m\u001b[1;33m\u001b[0m\u001b[0m\n",
      "\u001b[1;32m~\\AppData\\Local\\Temp/ipykernel_9828/1127938069.py\u001b[0m in \u001b[0;36mcartesian_product\u001b[1;34m(l, K)\u001b[0m\n\u001b[0;32m      4\u001b[0m     \u001b[1;32mfor\u001b[0m \u001b[0mi\u001b[0m \u001b[1;32min\u001b[0m \u001b[0mrange\u001b[0m\u001b[1;33m(\u001b[0m\u001b[1;36m1\u001b[0m\u001b[1;33m,\u001b[0m \u001b[0mK\u001b[0m\u001b[1;33m+\u001b[0m\u001b[1;36m1\u001b[0m\u001b[1;33m)\u001b[0m\u001b[1;33m:\u001b[0m \u001b[1;31m# Add 1 to k as range goes up to the second paramater\u001b[0m\u001b[1;33m\u001b[0m\u001b[1;33m\u001b[0m\u001b[0m\n\u001b[0;32m      5\u001b[0m         \u001b[1;32mfor\u001b[0m \u001b[0mroll\u001b[0m \u001b[1;32min\u001b[0m \u001b[0mproduct\u001b[0m\u001b[1;33m(\u001b[0m\u001b[0ml\u001b[0m\u001b[1;33m,\u001b[0m \u001b[0mrepeat\u001b[0m \u001b[1;33m=\u001b[0m \u001b[0mi\u001b[0m\u001b[1;33m)\u001b[0m\u001b[1;33m:\u001b[0m\u001b[1;33m\u001b[0m\u001b[1;33m\u001b[0m\u001b[0m\n\u001b[1;32m----> 6\u001b[1;33m             \u001b[0mroll\u001b[0m \u001b[1;33m=\u001b[0m \u001b[1;34m''\u001b[0m\u001b[1;33m.\u001b[0m\u001b[0mjoin\u001b[0m\u001b[1;33m(\u001b[0m\u001b[0mroll\u001b[0m\u001b[1;33m)\u001b[0m\u001b[1;33m\u001b[0m\u001b[1;33m\u001b[0m\u001b[0m\n\u001b[0m\u001b[0;32m      7\u001b[0m             \u001b[0mjoined_roll\u001b[0m\u001b[1;33m=\u001b[0m\u001b[1;34m''\u001b[0m\u001b[1;33m.\u001b[0m\u001b[0mjoin\u001b[0m\u001b[1;33m(\u001b[0m\u001b[0mroll\u001b[0m\u001b[1;33m)\u001b[0m\u001b[1;33m\u001b[0m\u001b[1;33m\u001b[0m\u001b[0m\n\u001b[0;32m      8\u001b[0m             \u001b[1;31m# Use hashing to make it more efficient\u001b[0m\u001b[1;33m\u001b[0m\u001b[1;33m\u001b[0m\u001b[0m\n",
      "\u001b[1;31mTypeError\u001b[0m: sequence item 0: expected str instance, tuple found"
     ]
    }
   ],
   "source": [
    "print(bpcp_solver(L1, L2, 3))"
   ]
  },
  {
   "cell_type": "code",
   "execution_count": null,
   "id": "cf737c06-4c47-45d2-8e41-9b077b7635a5",
   "metadata": {},
   "outputs": [],
   "source": [
    "print(bpcp_solver(L3, L4, 3))"
   ]
  },
  {
   "cell_type": "code",
   "execution_count": null,
   "id": "6b3a8fe0-3f4a-4133-93d6-12fba15cb1ae",
   "metadata": {},
   "outputs": [],
   "source": [
    "print(bpcp_solver(L1, L4, 4))"
   ]
  },
  {
   "cell_type": "code",
   "execution_count": null,
   "id": "85500578-c5da-4eec-be02-e2ac18abb222",
   "metadata": {},
   "outputs": [],
   "source": [
    "print(bpcp_solver(L2, L3, 4))"
   ]
  },
  {
   "cell_type": "markdown",
   "id": "30415f65-c726-4547-be93-73f997824615",
   "metadata": {},
   "source": [
    "## References\n",
    "1. https://www.geeksforgeeks.org/post-correspondence-problem/\n",
    "2. https://en.wikipedia.org/wiki/Post_correspondence_problem"
   ]
  },
  {
   "cell_type": "markdown",
   "id": "3506f778-2082-43e6-a95a-339c06e04c2f",
   "metadata": {},
   "source": [
    "***\n",
    "\n",
    "# End"
   ]
  }
 ],
 "metadata": {
  "kernelspec": {
   "display_name": "Python 3 (ipykernel)",
   "language": "python",
   "name": "python3"
  },
  "language_info": {
   "codemirror_mode": {
    "name": "ipython",
    "version": 3
   },
   "file_extension": ".py",
   "mimetype": "text/x-python",
   "name": "python",
   "nbconvert_exporter": "python",
   "pygments_lexer": "ipython3",
   "version": "3.9.7"
  }
 },
 "nbformat": 4,
 "nbformat_minor": 5
}
