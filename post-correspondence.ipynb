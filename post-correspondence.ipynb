{
 "cells": [
  {
   "cell_type": "markdown",
   "id": "a58e1bad-6e21-44c4-b78f-a7d8ed3dc04e",
   "metadata": {},
   "source": [
    "# Post Correspondence Problem\n",
    "\n",
    "The [<b>Post Correspondence Problem</b>](https://en.wikipedia.org/wiki/Post_correspondence_problem) is a popular indecidable problem that was introduced by Emil Leon Post in 1946. "
   ]
  },
  {
   "cell_type": "markdown",
   "id": "b96dff67-b101-4f30-bcc3-d0fa438f936f",
   "metadata": {},
   "source": [
    "## The Problem\n",
    "\n",
    "Lets assume we have two lists both containing $N$ words. The aim is to find out a concatenation of these words in some sequence so both lists yield the same result.\n",
    "\n",
    "Let us try understand this by taking two lists <b>L1</b> and <b>L2</b>"
   ]
  },
  {
   "cell_type": "code",
   "execution_count": 1,
   "id": "4beceebd-58a3-42da-8bdf-aa7d1606c834",
   "metadata": {},
   "outputs": [],
   "source": [
    "L1 = ['aa', 'bb', 'abb']\n",
    "L2 = ['aab', 'ba', 'b']"
   ]
  },
  {
   "cell_type": "markdown",
   "id": "2dd21339-a0d4-42ac-a31e-6f0f490ade65",
   "metadata": {},
   "source": [
    "Looking at these lists we can see that none of the lists have corresponding stored values. However, by using a sequence $S$ which is a list of indices, we can see that both of these lists actually do correspond to each other."
   ]
  },
  {
   "cell_type": "code",
   "execution_count": 2,
   "id": "01ed9c9c-5efc-4d83-8546-9e38bfd102f4",
   "metadata": {},
   "outputs": [],
   "source": [
    "# Sequence for lists above.\n",
    "S = [0, 1, 0, 2]"
   ]
  },
  {
   "cell_type": "markdown",
   "id": "263a8018-8ce4-407c-a808-26ab237ea63c",
   "metadata": {},
   "source": [
    "If I apply the sequence above to both lists, we should get the same output."
   ]
  },
  {
   "cell_type": "code",
   "execution_count": 3,
   "id": "0dd11e1c-63b3-4993-ab98-ffe7265ad7b6",
   "metadata": {},
   "outputs": [],
   "source": [
    "# Apply the proposed solution to each list.\n",
    "def apply(S, L):\n",
    "    S_on_L = [''.join(L[i]) for i in S]\n",
    "    return ''.join(S_on_L)"
   ]
  },
  {
   "cell_type": "code",
   "execution_count": 4,
   "id": "609a1249-4437-4be2-9433-5edbc54d17c9",
   "metadata": {},
   "outputs": [
    {
     "data": {
      "text/plain": [
       "'aabbaaabb'"
      ]
     },
     "execution_count": 4,
     "metadata": {},
     "output_type": "execute_result"
    }
   ],
   "source": [
    "# Apply sequence to first list.\n",
    "apply(S, L1)"
   ]
  },
  {
   "cell_type": "code",
   "execution_count": 5,
   "id": "49439c1f-fbbf-4331-9059-e6d13a6753cf",
   "metadata": {},
   "outputs": [
    {
     "data": {
      "text/plain": [
       "'aabbaaabb'"
      ]
     },
     "execution_count": 5,
     "metadata": {},
     "output_type": "execute_result"
    }
   ],
   "source": [
    "# Apply sequence to second list.\n",
    "apply(S, L2)"
   ]
  },
  {
   "cell_type": "markdown",
   "id": "3f0122ee-0856-4566-ba24-5c1ac3d424e0",
   "metadata": {},
   "source": [
    "Both of these outputs look the same, but to verify we will compare them."
   ]
  },
  {
   "cell_type": "code",
   "execution_count": 6,
   "id": "df407ac1-39d0-4251-abe9-200e1b35f585",
   "metadata": {},
   "outputs": [
    {
     "data": {
      "text/plain": [
       "True"
      ]
     },
     "execution_count": 6,
     "metadata": {},
     "output_type": "execute_result"
    }
   ],
   "source": [
    "apply(S, L1) == apply(S, L2)"
   ]
  },
  {
   "cell_type": "markdown",
   "id": "7d937416-5b43-4cb3-aa99-dba74e431467",
   "metadata": {},
   "source": [
    "As we can see, the result is the same. Therefore, L1 corresponds to L2."
   ]
  },
  {
   "cell_type": "markdown",
   "id": "50d9484d-6c6b-4d8e-8ad2-44e38a7d95ba",
   "metadata": {
    "tags": []
   },
   "source": [
    "### What if the lists don't correspond?\n",
    "\n",
    "Let's create two lists."
   ]
  },
  {
   "cell_type": "code",
   "execution_count": 7,
   "id": "ad487812-0589-49c9-bad8-64ea2b83aae8",
   "metadata": {},
   "outputs": [],
   "source": [
    "L3 = ['ab', 'bba']\n",
    "L4 = ['aa', 'bb']"
   ]
  },
  {
   "cell_type": "markdown",
   "id": "151b0f85-fe82-4698-b49f-e26f71a5058b",
   "metadata": {},
   "source": [
    "How do we check if these correspond to each other?\n",
    "\n",
    "The problem is $S$ can be an infinite length. This means that proving if two lists correspond is a very difficult task as you could have a loop that runs forever"
   ]
  },
  {
   "cell_type": "markdown",
   "id": "42b2a592-f1f2-4c78-a6ad-e562f0b81f33",
   "metadata": {},
   "source": [
    "### How can we represent The Post Correspondence Problem"
   ]
  },
  {
   "cell_type": "markdown",
   "id": "d62efaab-092e-4e51-9391-1f9084b6527f",
   "metadata": {},
   "source": [
    "There are two main ways the post correspondence problem is represented.\n",
    "\n",
    "`Table Form`  \n",
    "<img src=\"images/pcp-table.jpg\" style=\"width:425px;height:265px;\">  \n",
    "\n",
    "`Domino Form`  \n",
    "<img src=\"images/pcp-dom.jpg\" style=\"width:450px;height:220px;\">"
   ]
  },
  {
   "cell_type": "markdown",
   "id": "2126338e-c64f-4f5d-bf8d-7ffcb3a3add0",
   "metadata": {},
   "source": [
    "### Post Correspondence Problem Undecidability"
   ]
  },
  {
   "cell_type": "markdown",
   "id": "ae36f483-2b49-4d94-ad44-09c72143c192",
   "metadata": {},
   "source": [
    "As we know, the post correspondence problem is known as an undecidable problem, as there is no algorithm that proves the PCP will have a solution. That being said, if we lower the Turing Machine to the post correspondence problem, we can prove that the post correspondence problem is undecidable. [3]  \n",
    "\n",
    "Consider Turing machine M to simulate PCP’s input string w can be represented as:  \n",
    "<img src=\"images/turing.jpg\" style=\"width:550px;height:150px;\">\n",
    "\n",
    "If the input string gets a match, then the Turing machine will halt in an accepting state. When the turing machine halts in the accepting state, this means that the state is an acceptance problem. [1]\n",
    "\n",
    "The acceptance problem is undeciable, which therefore means the post correspondence problem is also undecidable."
   ]
  },
  {
   "cell_type": "markdown",
   "id": "286b4018-944a-4e60-ae2b-97176c64d990",
   "metadata": {},
   "source": [
    "# Bounded Post Correspondence Problem\n",
    "\n",
    "The Bounded Post Correspondence Problem is a variant of the [Post Correspondence Problem](https://en.wikipedia.org/wiki/Post_correspondence_problem). \n",
    "\n",
    "Given a list of strings, determine whether we can create two identical strings given a maximum length of $k$ elements.\n",
    "\n",
    "$$ |S| \\leq K \\qquad K \\in \\mathbb{N} $$"
   ]
  },
  {
   "cell_type": "markdown",
   "id": "205cd2db-7bc8-40fc-a143-5c0bb383b9d8",
   "metadata": {},
   "source": [
    "### What is the Bounded Correspondence Problem?\n",
    "As mentioned above, the bounded post correspondence problem is a variant of the post correspondence problem which aims to create two identical strings from a list of strings given a maximum length of k elements. Usually this is accomplished through the use of a brute force search, which solves the problem in a time of $O(2^k)$. However, this time is difficult to improve on due to the problem being NP-complete.  \n",
    "![nphard](https://user-images.githubusercontent.com/48318312/167318495-88e554f4-0374-4861-81d3-ad90c3963e4a.jpg)\n",
    "\n",
    "A problem is said to be NP (non-deterministic polynomial) complete if every other problem in NP can be transformed or reduced in polynomial time. It is also not known whether every problem in NP can be quickly solved."
   ]
  },
  {
   "cell_type": "markdown",
   "id": "b8083ca3-9962-4650-9519-cc1aef2bce89",
   "metadata": {},
   "source": [
    "## Imports"
   ]
  },
  {
   "cell_type": "code",
   "execution_count": 8,
   "id": "f1a3b91b-4f81-49e8-a9c3-7da13ac5ff69",
   "metadata": {},
   "outputs": [],
   "source": [
    "from itertools import permutations, product"
   ]
  },
  {
   "cell_type": "markdown",
   "id": "04a889e0-39f0-468c-a3e4-4b7fa5523a23",
   "metadata": {},
   "source": [
    "### Get all Possible Combinations\n",
    "\n",
    "Code adapted from [here](https://stackoverflow.com/questions/464864/how-to-get-all-possible-combinations-of-a-list-s-elements)."
   ]
  },
  {
   "cell_type": "code",
   "execution_count": 9,
   "id": "cd9449ec-bc07-4d35-9e7b-d378b1b8ec7e",
   "metadata": {},
   "outputs": [],
   "source": [
    "def combinations(l, r):\n",
    "    # Start range at one so we don't include empty sets.\n",
    "    for i in range(1, r):\n",
    "        for subset in permutations(l, i):\n",
    "            print(subset)"
   ]
  },
  {
   "cell_type": "code",
   "execution_count": 10,
   "id": "072184cf-30e9-4d1f-a4bf-9d64b133eda7",
   "metadata": {},
   "outputs": [
    {
     "name": "stdout",
     "output_type": "stream",
     "text": [
      "('aa',)\n",
      "('bb',)\n",
      "('abb',)\n",
      "('aa', 'bb')\n",
      "('aa', 'abb')\n",
      "('bb', 'aa')\n",
      "('bb', 'abb')\n",
      "('abb', 'aa')\n",
      "('abb', 'bb')\n",
      "('aa', 'bb', 'abb')\n",
      "('aa', 'abb', 'bb')\n",
      "('bb', 'aa', 'abb')\n",
      "('bb', 'abb', 'aa')\n",
      "('abb', 'aa', 'bb')\n",
      "('abb', 'bb', 'aa')\n"
     ]
    }
   ],
   "source": [
    "combinations(L1, 4)"
   ]
  },
  {
   "cell_type": "code",
   "execution_count": 11,
   "id": "37e961ac-fb08-407b-8121-b4d6d97f6370",
   "metadata": {},
   "outputs": [
    {
     "name": "stdout",
     "output_type": "stream",
     "text": [
      "('aab',)\n",
      "('ba',)\n",
      "('b',)\n",
      "('aab', 'ba')\n",
      "('aab', 'b')\n",
      "('ba', 'aab')\n",
      "('ba', 'b')\n",
      "('b', 'aab')\n",
      "('b', 'ba')\n",
      "('aab', 'ba', 'b')\n",
      "('aab', 'b', 'ba')\n",
      "('ba', 'aab', 'b')\n",
      "('ba', 'b', 'aab')\n",
      "('b', 'aab', 'ba')\n",
      "('b', 'ba', 'aab')\n"
     ]
    }
   ],
   "source": [
    "combinations(L2, 4)"
   ]
  },
  {
   "cell_type": "markdown",
   "id": "c4963ee0-275c-438d-99af-b62f4cac7225",
   "metadata": {},
   "source": [
    "Here, I am simply getting all possible arrangements of a set which are known as permutations. $K$ is a fixed length and it is clear this is not taken into account."
   ]
  },
  {
   "cell_type": "markdown",
   "id": "d769cf24-d78c-4f6a-bb1d-bfbea7d5ad2c",
   "metadata": {},
   "source": [
    "## Setup"
   ]
  },
  {
   "cell_type": "code",
   "execution_count": 68,
   "id": "84ca52f3-a252-4d9a-887d-a7ff2626a102",
   "metadata": {},
   "outputs": [],
   "source": [
    "L3 = ['aa', 'bb', 'abb']"
   ]
  },
  {
   "cell_type": "code",
   "execution_count": 69,
   "id": "85136a88-4e59-40fd-aeaa-ee2728c4848f",
   "metadata": {},
   "outputs": [],
   "source": [
    "L4 = ['aab', 'ba', 'b']"
   ]
  },
  {
   "cell_type": "markdown",
   "id": "4a8540b5-62d9-4c59-a12e-66fa42b326fd",
   "metadata": {},
   "source": [
    "## Get the Cartesian Product\n",
    "\n",
    "The [Cartesian Product](https://en.wikipedia.org/wiki/Cartesian_product) is a set that is constructed from two given sets and comprises all pairs of elements, which means it gets all possible combinations of the given two sets.\n",
    "\n",
    "The function below gets all the possible cartesian products of $l$, but it only does so $k$ times."
   ]
  },
  {
   "cell_type": "code",
   "execution_count": 16,
   "id": "34617541-6ac6-44c0-8d86-6f17887cd474",
   "metadata": {},
   "outputs": [],
   "source": [
    "def cartesian_product(l, K):\n",
    "    l1 = []\n",
    "    # Find the cartesian product of list.\n",
    "    for i in range(1, K+1): # Add 1 to k as range goes up to the second paramater.\n",
    "        for roll in product(l, repeat = i):\n",
    "            joined_roll=''.join(roll)\n",
    "            # Use hashing to make it more efficient.\n",
    "            l1.append(hash(joined_roll))\n",
    "    return l1"
   ]
  },
  {
   "cell_type": "code",
   "execution_count": 64,
   "id": "cca599f0-8471-4974-8637-0e9781dda3c4",
   "metadata": {},
   "outputs": [],
   "source": [
    "def bpcp_solver(L1,L2,K):\n",
    "    # Check if length of both lists are the same.\n",
    "    if len(L1) != len(L2):\n",
    "        return False\n",
    "    # Using the python zip function, loop over the cartesian product of both lists.\n",
    "    for a, b in zip(cartesian_product(L1,K), cartesian_product(L2,K)):\n",
    "        if a == b:\n",
    "            return True\n",
    "        \n",
    "    return False"
   ]
  },
  {
   "cell_type": "markdown",
   "id": "467ed977-6611-44ad-98b4-a363606c3111",
   "metadata": {},
   "source": [
    "L1 and L2 do not correspond until $K = 4$"
   ]
  },
  {
   "cell_type": "code",
   "execution_count": 34,
   "id": "4e26ad1a-ec4b-41d2-bfbf-3d4e0e0eaab6",
   "metadata": {},
   "outputs": [
    {
     "name": "stdout",
     "output_type": "stream",
     "text": [
      "False\n"
     ]
    }
   ],
   "source": [
    "print(bpcp_solver(L1, L2, 3))"
   ]
  },
  {
   "cell_type": "code",
   "execution_count": 35,
   "id": "9626c61d-e3bd-4470-bd59-f810af311fe6",
   "metadata": {},
   "outputs": [
    {
     "name": "stdout",
     "output_type": "stream",
     "text": [
      "True\n"
     ]
    }
   ],
   "source": [
    "print(bpcp_solver(L1, L2, 4))"
   ]
  },
  {
   "cell_type": "code",
   "execution_count": 65,
   "id": "40f8983c-d042-43ac-8396-85d70645f139",
   "metadata": {},
   "outputs": [
    {
     "name": "stdout",
     "output_type": "stream",
     "text": [
      "['ab', 'baab', 'bbba']\n",
      "['bbb', 'aba', 'abab']\n"
     ]
    }
   ],
   "source": [
    "print(L3)\n",
    "print(L4)"
   ]
  },
  {
   "cell_type": "code",
   "execution_count": 70,
   "id": "cf737c06-4c47-45d2-8e41-9b077b7635a5",
   "metadata": {},
   "outputs": [
    {
     "name": "stdout",
     "output_type": "stream",
     "text": [
      "True\n"
     ]
    }
   ],
   "source": [
    "print(bpcp_solver(L3, L4, 4))"
   ]
  },
  {
   "cell_type": "code",
   "execution_count": 21,
   "id": "6b3a8fe0-3f4a-4133-93d6-12fba15cb1ae",
   "metadata": {},
   "outputs": [
    {
     "name": "stdout",
     "output_type": "stream",
     "text": [
      "False\n"
     ]
    }
   ],
   "source": [
    "print(bpcp_solver(L1, L4, 4))"
   ]
  },
  {
   "cell_type": "code",
   "execution_count": 22,
   "id": "85500578-c5da-4eec-be02-e2ac18abb222",
   "metadata": {},
   "outputs": [
    {
     "name": "stdout",
     "output_type": "stream",
     "text": [
      "False\n"
     ]
    }
   ],
   "source": [
    "print(bpcp_solver(L2, L3, 4))"
   ]
  },
  {
   "cell_type": "markdown",
   "id": "78a98ac2-bb00-4d94-b596-721b5d8fd6ce",
   "metadata": {},
   "source": [
    "### What is an Undecidable Problem in Computability Theory?"
   ]
  },
  {
   "cell_type": "markdown",
   "id": "de8ccba9-1819-48d3-bbab-0b92d47d6078",
   "metadata": {},
   "source": [
    "In computability theory and computational complexity theory, an undecidable problem is a decision problem in which it is said to be impossible to construct an algorithm that always leads to a correct yes or no answer. [6]\n",
    "\n",
    "An undecidable problem can be related to many different topics such as:\n",
    "<ul>\n",
    "    <li><b>Abstract Machines</b> - The Halting Problem</li>\n",
    "    <li><b>Logic</b> - The Hilbert's Entscheidungsproblem</li>\n",
    "    <li><b>Analysis</b> - Richardson's Theorem</li>\n",
    "    <li><b>Formal Languages</b> - The Post Correspondence Problem</li>\n",
    "    <li><b>Topology/Matrices</b> - The Mortal Matrix Problem</li>\n",
    "    <li><b>Combinatorial Group Theory</b> - The Conjugacy Problem</li>\n",
    "</ul>\n"
   ]
  },
  {
   "cell_type": "markdown",
   "id": "30415f65-c726-4547-be93-73f997824615",
   "metadata": {},
   "source": [
    "## References\n",
    "1. https://www.geeksforgeeks.org/post-correspondence-problem/\n",
    "2. https://en.wikipedia.org/wiki/Post_correspondence_problem\n",
    "3. https://faculty.cc.gatech.edu/~rpeng/CS4510_S20/Apr16PostCorrespondence.pdf\n",
    "4. https://stackoverflow.com/questions/464864/how-to-get-all-possible-combinations-of-a-list-s-elements\n",
    "5. https://www.w3schools.com/python/ref_func_zip.asp  \n",
    "6. https://en.wikipedia.org/wiki/Undecidable_problem"
   ]
  },
  {
   "cell_type": "markdown",
   "id": "3506f778-2082-43e6-a95a-339c06e04c2f",
   "metadata": {},
   "source": [
    "***\n",
    "\n",
    "# End"
   ]
  }
 ],
 "metadata": {
  "kernelspec": {
   "display_name": "Python 3 (ipykernel)",
   "language": "python",
   "name": "python3"
  },
  "language_info": {
   "codemirror_mode": {
    "name": "ipython",
    "version": 3
   },
   "file_extension": ".py",
   "mimetype": "text/x-python",
   "name": "python",
   "nbconvert_exporter": "python",
   "pygments_lexer": "ipython3",
   "version": "3.9.7"
  }
 },
 "nbformat": 4,
 "nbformat_minor": 5
}
