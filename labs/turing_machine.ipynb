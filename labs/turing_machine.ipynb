{
 "cells": [
  {
   "cell_type": "markdown",
   "id": "9925c78b-d3f5-4c2b-8daf-597de460a8a9",
   "metadata": {},
   "source": [
    "# Turing Machine\n",
    "\n",
    "***"
   ]
  },
  {
   "cell_type": "markdown",
   "id": "97155011-dfb9-4c62-ac5a-efdf66b07aac",
   "metadata": {},
   "source": [
    "$ \\begin{array}{X{1cm}x{1cm}x{1cm}x{1cm}}\n",
    "    \\textrm{State} & \\textrm{Input} & \\textrm{Write} & \\textrm{Move} & \\textrm{Next} \\\\\n",
    "    \\hline\n",
    "    A & 0 & 0 & R & A \\\\\n",
    "    A & 1 & 1 & R & B \\\\\n",
    "    A & \\sqcup & \\sqcup & L & T \\\\\n",
    "    \\hline\n",
    "    B & 0 & 0 & R & B \\\\\n",
    "    B & 1 & 1 & R & A \\\\\n",
    "    B & \\sqcup & \\sqcup & L & F \\\\\n",
    "    \\hline\n",
    "\\end{array} $"
   ]
  },
  {
   "cell_type": "code",
   "execution_count": 1,
   "id": "f3744518-415f-4cd3-abbc-a99e4c1d844b",
   "metadata": {},
   "outputs": [
    {
     "data": {
      "text/plain": [
       "[['A', '0', '0', 'R', 'A'],\n",
       " ['A', '1', '1', 'R', 'B'],\n",
       " ['A', '_', '_', 'L', 'T'],\n",
       " ['B', '0', '0', 'R', 'B'],\n",
       " ['B', '1', '1', 'R', 'A'],\n",
       " ['B', '_', '_', 'L', 'F']]"
      ]
     },
     "execution_count": 1,
     "metadata": {},
     "output_type": "execute_result"
    }
   ],
   "source": [
    "# State table in python structure.\n",
    "states = [\n",
    "   ['A', '0', '0', 'R', 'A'],\n",
    "   ['A', '1', '1', 'R', 'B'],\n",
    "   ['A', '_', '_', 'L', 'T'],\n",
    "   ['B', '0', '0', 'R', 'B'],\n",
    "   ['B', '1', '1', 'R', 'A'],\n",
    "   ['B', '_', '_', 'L', 'F'],\n",
    "]\n",
    "states"
   ]
  },
  {
   "cell_type": "code",
   "execution_count": 2,
   "id": "8f000621-685b-4286-ac8d-8436a695b7b1",
   "metadata": {},
   "outputs": [],
   "source": [
    "# Get the Turing machine to take a single step forward.\n",
    "def step(tape, pos, state, states):\n",
    "    # Select the correct row of the table.\n",
    "    # list(filter(lambda x: x[0] == state and x[1] == tape[pos], states))[0]\n",
    "    for row in states:\n",
    "        if row[0] == state and row[1] == tape[pos]:\n",
    "            break\n",
    "    # Over-write current symbol.\n",
    "    tape[pos] = row[2]\n",
    "    # Move left or right.\n",
    "    if row[3] == 'R':\n",
    "        pos = pos + 1\n",
    "    else:\n",
    "        pos = pos - 1\n",
    "    # Fix the tape if we go off either end.\n",
    "    while pos < 0:\n",
    "        tape = ['_'] + tape\n",
    "        pos = pos + 1\n",
    "    while pos >= len(tape):\n",
    "        tape = tape + ['_']\n",
    "    # Change the state\n",
    "    state = row[4]\n",
    "    # Return the new configuration.\n",
    "    return tape, pos, state"
   ]
  },
  {
   "cell_type": "code",
   "execution_count": 5,
   "id": "deeec2b2-78cb-4405-b264-a2fa4b141071",
   "metadata": {},
   "outputs": [],
   "source": [
    "# Run the machine.\n",
    "def run_machine(states, tape):\n",
    "    # Start state is top left in state table.\n",
    "    state = states[0][0]\n",
    "    # Position is left of the tape.\n",
    "    pos = 0\n",
    "    # Turn the tape into a list.\n",
    "    tape = list(tape)\n",
    "    # Run the machine until we get a terminal state.\n",
    "    while state not in {'T', 'F'}:\n",
    "        # Display the current configuration.\n",
    "        print(state, f'{pos:2}', ''.join(tape))\n",
    "        # Step the machine forward\n",
    "        tape, pos, state = step(tape, pos, state, states)\n",
    "    # Show the final configuration\n",
    "    print(state, f'{pos:2}', ''.join(tape))"
   ]
  },
  {
   "cell_type": "code",
   "execution_count": 19,
   "id": "d4fdb0f6-bdd1-4e99-adbe-29615dda94ad",
   "metadata": {},
   "outputs": [
    {
     "name": "stdout",
     "output_type": "stream",
     "text": [
      "A  0 001101001\n",
      "A  1 001101001\n",
      "A  2 001101001\n",
      "B  3 001101001\n",
      "A  4 001101001\n",
      "A  5 001101001\n",
      "B  6 001101001\n",
      "B  7 001101001\n",
      "B  8 001101001\n",
      "A  9 001101001_\n",
      "T  8 001101001_\n"
     ]
    }
   ],
   "source": [
    "# Run an example.\n",
    "run_machine(states, '001101001')"
   ]
  },
  {
   "cell_type": "code",
   "execution_count": null,
   "id": "c9296ffc-6029-4b02-8b08-2937a3bbfc53",
   "metadata": {},
   "outputs": [],
   "source": []
  }
 ],
 "metadata": {
  "kernelspec": {
   "display_name": "Python 3 (ipykernel)",
   "language": "python",
   "name": "python3"
  },
  "language_info": {
   "codemirror_mode": {
    "name": "ipython",
    "version": 3
   },
   "file_extension": ".py",
   "mimetype": "text/x-python",
   "name": "python",
   "nbconvert_exporter": "python",
   "pygments_lexer": "ipython3",
   "version": "3.9.7"
  }
 },
 "nbformat": 4,
 "nbformat_minor": 5
}
