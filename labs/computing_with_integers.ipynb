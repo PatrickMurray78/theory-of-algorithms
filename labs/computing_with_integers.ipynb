{
 "cells": [
  {
   "cell_type": "markdown",
   "id": "f76ec9c9-a2ef-4273-b54d-0e848beda75f",
   "metadata": {},
   "source": [
    "# Computing with Integers\n",
    "\n",
    "***"
   ]
  },
  {
   "cell_type": "code",
   "execution_count": 1,
   "id": "51810238-ff16-41b2-b8c0-6a2666426ac9",
   "metadata": {},
   "outputs": [],
   "source": [
    "def double(i):\n",
    "    return 2 * i"
   ]
  },
  {
   "cell_type": "code",
   "execution_count": 2,
   "id": "06e13a28-a27c-4190-bacd-948f716f5c9f",
   "metadata": {},
   "outputs": [],
   "source": [
    "eg_list_of_inputs = [-9, -8, -7, -6, -5, -4, -3, -2, -1, 0, 1, 2, 3, 4, 5, 6, 7, 8, 9]"
   ]
  },
  {
   "cell_type": "code",
   "execution_count": 4,
   "id": "812a7c0c-cbe7-4577-9ec9-6bf699159bf6",
   "metadata": {},
   "outputs": [
    {
     "data": {
      "text/plain": [
       "[-18, -16, -14, -12, -10, -8, -6, -4, -2, 0, 2, 4, 6, 8, 10, 12, 14, 16, 18]"
      ]
     },
     "execution_count": 4,
     "metadata": {},
     "output_type": "execute_result"
    }
   ],
   "source": [
    "eg_list_of_outputs = list(map(double, eg_list_of_inputs))\n",
    "eg_list_of_outputs"
   ]
  },
  {
   "cell_type": "code",
   "execution_count": 7,
   "id": "4a38be75-87f9-4e8f-981a-4b4daf65e056",
   "metadata": {},
   "outputs": [
    {
     "name": "stdout",
     "output_type": "stream",
     "text": [
      " -9 -> -18\n",
      " -8 -> -16\n",
      " -7 -> -14\n",
      " -6 -> -12\n",
      " -5 -> -10\n",
      " -4 ->  -8\n",
      " -3 ->  -6\n",
      " -2 ->  -4\n",
      " -1 ->  -2\n",
      "  0 ->   0\n",
      "  1 ->   2\n",
      "  2 ->   4\n",
      "  3 ->   6\n",
      "  4 ->   8\n",
      "  5 ->  10\n",
      "  6 ->  12\n",
      "  7 ->  14\n",
      "  8 ->  16\n",
      "  9 ->  18\n"
     ]
    }
   ],
   "source": [
    "for i in range(-9, 10):\n",
    "    print(f'{i:3} -> {double(i):3}')"
   ]
  },
  {
   "cell_type": "markdown",
   "id": "ad5fea49-2e65-455b-82c0-cff0f59a876c",
   "metadata": {},
   "source": [
    "<br>\n",
    "\n",
    "$ f: \\mathbb{Z} \\rightarrow 2 \\mathbb{Z} $\n",
    "\n",
    "$ \\mathbb{Z} = \\{ \\ldots, -2, -1, 0, 1, 2, \\ldots \\} $\n",
    "\n",
    "$ 2 \\mathbb{Z} = \\{ \\ldots, -2, 0, 2, \\ldots \\} $\n",
    "\n",
    "$ 2 \\mathbb{Z} \\subset \\mathbb{Z} $\n",
    "\n",
    "$ | \\mathbb{Z} | $ is $ \\aleph_0 $\n",
    "<br>"
   ]
  },
  {
   "cell_type": "markdown",
   "id": "76620929-b27e-41a9-896b-5d2c8d6fbdd5",
   "metadata": {},
   "source": [
    "# The Integers and the Reals\n",
    "\n",
    "***"
   ]
  },
  {
   "cell_type": "markdown",
   "id": "3f70f7cd-dd6d-4f90-9198-76efa3a84b29",
   "metadata": {},
   "source": [
    "$ \\mathbb{N}_0 $ = $ \\{0, 1, 2, 3, \\ldots\\} $\n",
    "\n",
    "$ | \\mathbb{N}_0 | $ is $ \\aleph_0 $\n",
    "\n",
    "$ 0 \\rightarrow 0 $\n",
    "\n",
    "$ 1 \\rightarrow -1 $\n",
    "\n",
    "$ 2 \\rightarrow 1 $\n",
    "\n",
    "$ 3 \\rightarrow -2 $\n",
    "\n",
    "$ 4 \\rightarrow 2 $\n",
    "\n",
    "$ \\ldots $"
   ]
  },
  {
   "cell_type": "code",
   "execution_count": 10,
   "id": "1c35ad4d-5a5d-455d-8893-30091518859d",
   "metadata": {},
   "outputs": [
    {
     "name": "stdout",
     "output_type": "stream",
     "text": [
      " 0 -> 0.359092117\n",
      " 1 -> 0.906826141\n",
      " 2 -> 0.018636207\n",
      " 3 -> 0.351321301\n",
      " 4 -> 0.432420432\n",
      " 5 -> 0.750779994\n",
      " 6 -> 0.584583015\n",
      " 7 -> 0.313723451\n",
      " 8 -> 0.793460788\n",
      " 9 -> 0.343396031\n"
     ]
    }
   ],
   "source": [
    "import random\n",
    "\n",
    "for n in range(10):\n",
    "    print(f'{n:2} -> {random.random():0.9f}')"
   ]
  },
  {
   "cell_type": "code",
   "execution_count": null,
   "id": "50274d2d-0855-418c-9d66-efe98a26cafd",
   "metadata": {},
   "outputs": [],
   "source": [
    "0.0663927917..."
   ]
  },
  {
   "cell_type": "markdown",
   "id": "03cf4db3-b087-481c-a328-243a06000ce4",
   "metadata": {},
   "source": [
    "$ \\mathbb{N}_0 $ = $ \\{0, 1, 2, 3, \\ldots\\} $\n",
    "\n",
    "$ \\mathbf{P}(\\mathbb{N}_0) = \\{ \\{\\}, \\{0\\}, \\{1\\}, \\{2\\}, \\{3\\}, \\ldots \\{0,1\\} \\ldots\\} $\n",
    "\n",
    "$ | \\mathbf{P}(\\mathbb{N}_0) | $ is $ \\aleph_1 $"
   ]
  },
  {
   "cell_type": "code",
   "execution_count": null,
   "id": "0ddd87b9-37bd-42aa-b8f0-3445820d57cb",
   "metadata": {},
   "outputs": [],
   "source": []
  }
 ],
 "metadata": {
  "kernelspec": {
   "display_name": "Python 3 (ipykernel)",
   "language": "python",
   "name": "python3"
  },
  "language_info": {
   "codemirror_mode": {
    "name": "ipython",
    "version": 3
   },
   "file_extension": ".py",
   "mimetype": "text/x-python",
   "name": "python",
   "nbconvert_exporter": "python",
   "pygments_lexer": "ipython3",
   "version": "3.9.7"
  }
 },
 "nbformat": 4,
 "nbformat_minor": 5
}
