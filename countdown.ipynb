{
 "cells": [
  {
   "cell_type": "markdown",
   "id": "dc1296f9-97c0-4a30-9fde-eff356370f79",
   "metadata": {},
   "source": [
    "# Countdown Numbers Game\n",
    "\n",
    "***"
   ]
  },
  {
   "cell_type": "code",
   "execution_count": 1,
   "id": "0d74a165-e768-4254-8210-6305acfea182",
   "metadata": {},
   "outputs": [],
   "source": [
    "# Permutations and combinations.\n",
    "import itertools as it"
   ]
  },
  {
   "cell_type": "code",
   "execution_count": 2,
   "id": "28317f0d-bc2a-42d0-91b5-aaf430594ec1",
   "metadata": {},
   "outputs": [],
   "source": [
    "# Random number generation.\n",
    "import random"
   ]
  },
  {
   "cell_type": "code",
   "execution_count": 3,
   "id": "cc3c7198-aea8-4d4b-ac0c-9a3bf919eb21",
   "metadata": {},
   "outputs": [],
   "source": [
    "# Random number generation.\n",
    "import random"
   ]
  },
  {
   "cell_type": "markdown",
   "id": "327d01d1-4c85-4969-b11f-1bc272a967de",
   "metadata": {},
   "source": [
    "## Simulate a Game\n",
    "\n",
    "***"
   ]
  },
  {
   "cell_type": "code",
   "execution_count": 4,
   "id": "dd5fab67-9e14-4f85-883f-a9718b002984",
   "metadata": {},
   "outputs": [
    {
     "data": {
      "text/plain": [
       "[25, 50, 75, 100]"
      ]
     },
     "execution_count": 4,
     "metadata": {},
     "output_type": "execute_result"
    }
   ],
   "source": [
    "# The large numbers.\n",
    "large = [25, 50, 75, 100]\n",
    "large"
   ]
  },
  {
   "cell_type": "code",
   "execution_count": 5,
   "id": "f87ca8ce-f3e0-49c9-9105-e6d2116d6b45",
   "metadata": {},
   "outputs": [
    {
     "data": {
      "text/plain": [
       "[1, 2, 3, 4, 5, 6, 7, 8, 9, 10, 1, 2, 3, 4, 5, 6, 7, 8, 9, 10]"
      ]
     },
     "execution_count": 5,
     "metadata": {},
     "output_type": "execute_result"
    }
   ],
   "source": [
    "# The small numbers.\n",
    "small = list(range(1, 11)) * 2\n",
    "small"
   ]
  },
  {
   "cell_type": "code",
   "execution_count": 6,
   "id": "0a75d3ae-455a-4e12-ba7c-fd62a76528a0",
   "metadata": {},
   "outputs": [
    {
     "data": {
      "text/plain": [
       "3"
      ]
     },
     "execution_count": 6,
     "metadata": {},
     "output_type": "execute_result"
    }
   ],
   "source": [
    "# The number of large numbers to pick - between 0 and 4 inclusive.\n",
    "no_large = random.randrange(0, 5)\n",
    "no_large"
   ]
  },
  {
   "cell_type": "code",
   "execution_count": 7,
   "id": "319fca1c-bc4a-47f6-8f5f-c6478fb6983a",
   "metadata": {},
   "outputs": [
    {
     "data": {
      "text/plain": [
       "[75, 100, 25]"
      ]
     },
     "execution_count": 7,
     "metadata": {},
     "output_type": "execute_result"
    }
   ],
   "source": [
    "# Select no_large large numbers at random.\n",
    "large_rand = random.sample(large, no_large)\n",
    "large_rand"
   ]
  },
  {
   "cell_type": "code",
   "execution_count": 8,
   "id": "ba2d94d1-c432-44ef-8c26-afc0474c4a49",
   "metadata": {},
   "outputs": [
    {
     "data": {
      "text/plain": [
       "[4, 5, 1]"
      ]
     },
     "execution_count": 8,
     "metadata": {},
     "output_type": "execute_result"
    }
   ],
   "source": [
    "# Select (6 - no_large) small numbers at random.\n",
    "small_rand = random.sample(small, 6 - no_large)\n",
    "small_rand"
   ]
  },
  {
   "cell_type": "code",
   "execution_count": 9,
   "id": "6c28a26a-0597-4b37-8f3f-0c50e4cfab82",
   "metadata": {},
   "outputs": [
    {
     "data": {
      "text/plain": [
       "[75, 100, 25, 4, 5, 1]"
      ]
     },
     "execution_count": 9,
     "metadata": {},
     "output_type": "execute_result"
    }
   ],
   "source": [
    "# The six random numbers in a list.\n",
    "play_nos = large_rand + small_rand\n",
    "play_nos"
   ]
  },
  {
   "cell_type": "code",
   "execution_count": 10,
   "id": "dada5b32-4bda-4d1d-9e81-135bf54b1e0b",
   "metadata": {},
   "outputs": [
    {
     "data": {
      "text/plain": [
       "368"
      ]
     },
     "execution_count": 10,
     "metadata": {},
     "output_type": "execute_result"
    }
   ],
   "source": [
    "# Pick a random target number.\n",
    "target = random.randrange(101, 1000)\n",
    "target"
   ]
  },
  {
   "cell_type": "code",
   "execution_count": 24,
   "id": "506e1551-0619-4e82-acc5-8e17a96369a4",
   "metadata": {},
   "outputs": [],
   "source": [
    "# For random numbers and samples.\n",
    "import random\n",
    "\n",
    "\n",
    "def new_numbers_game(no_large=None):\n",
    "  \"\"\" Returns six numbers and a target number representing a Countdown numbers game.\n",
    "  \"\"\"\n",
    "  # If no_large in None, randomly pick value between 0 and 4 inclusive.\n",
    "  if no_large is None:\n",
    "    # Randomly set the value.\n",
    "    no_large = random.randrange(0, 5)\n",
    "  \n",
    "  # Select random large numbers.\n",
    "  large_rand = random.sample([25, 50, 75, 100], no_large)\n",
    "  # Select random small numbers.\n",
    "  small_rand = random.sample(list(range(1, 11)) * 2, 6 - no_large)\n",
    "  # The playing numbers.\n",
    "  play_nos = large_rand + small_rand\n",
    "\n",
    "  # Select a target number.\n",
    "  target = random.randrange(101, 1000)\n",
    "\n",
    "  # Return the game.\n",
    "  return play_nos, target"
   ]
  },
  {
   "cell_type": "code",
   "execution_count": 23,
   "id": "2bf1b38d-c690-42b8-98d1-556cd33efcbe",
   "metadata": {},
   "outputs": [
    {
     "data": {
      "text/plain": [
       "([25, 50, 6, 9, 3, 1], 646)"
      ]
     },
     "execution_count": 23,
     "metadata": {},
     "output_type": "execute_result"
    }
   ],
   "source": [
    "# Random numb ers game.\n",
    "new_numbers_game()"
   ]
  },
  {
   "cell_type": "markdown",
   "id": "c7c842e3-3bf3-4dc4-ab18-54ac061d1d89",
   "metadata": {},
   "source": [
    "## Working Towards a Solution\n",
    "\n",
    "***"
   ]
  },
  {
   "cell_type": "code",
   "execution_count": 13,
   "id": "2a00f093-1742-4802-9524-1065b2a87b7c",
   "metadata": {},
   "outputs": [
    {
     "data": {
      "text/plain": [
       "([100, 25, 9, 9, 3, 8], 499)"
      ]
     },
     "execution_count": 13,
     "metadata": {},
     "output_type": "execute_result"
    }
   ],
   "source": [
    "# A new example game.\n",
    "play_nos, target = new_numbers_game()\n",
    "play_nos, target"
   ]
  },
  {
   "cell_type": "code",
   "execution_count": 14,
   "id": "da5522bc-bf69-4f4b-865f-803f6e1ac5c9",
   "metadata": {},
   "outputs": [
    {
     "name": "stdout",
     "output_type": "stream",
     "text": [
      "(100, 25)\n",
      "100 + 25 = 125\n",
      "100 * 25 = 2500\n",
      "100 - 25 = 75\n",
      "100 / 25 = 4\n",
      "\n",
      "(100, 9)\n",
      "100 + 9 = 109\n",
      "100 * 9 = 900\n",
      "100 - 9 = 91\n",
      "\n",
      "(100, 9)\n",
      "100 + 9 = 109\n",
      "100 * 9 = 900\n",
      "100 - 9 = 91\n",
      "\n",
      "(100, 3)\n",
      "100 + 3 = 103\n",
      "100 * 3 = 300\n",
      "100 - 3 = 97\n",
      "\n",
      "(100, 8)\n",
      "100 + 8 = 108\n",
      "100 * 8 = 800\n",
      "100 - 8 = 92\n",
      "\n",
      "(25, 100)\n",
      "25 + 100 = 125\n",
      "25 * 100 = 2500\n",
      "\n",
      "(25, 9)\n",
      "25 + 9 = 34\n",
      "25 * 9 = 225\n",
      "25 - 9 = 16\n",
      "\n",
      "(25, 9)\n",
      "25 + 9 = 34\n",
      "25 * 9 = 225\n",
      "25 - 9 = 16\n",
      "\n",
      "(25, 3)\n",
      "25 + 3 = 28\n",
      "25 * 3 = 75\n",
      "25 - 3 = 22\n",
      "\n",
      "(25, 8)\n",
      "25 + 8 = 33\n",
      "25 * 8 = 200\n",
      "25 - 8 = 17\n",
      "\n",
      "(9, 100)\n",
      "9 + 100 = 109\n",
      "9 * 100 = 900\n",
      "\n",
      "(9, 25)\n",
      "9 + 25 = 34\n",
      "9 * 25 = 225\n",
      "\n",
      "(9, 9)\n",
      "9 + 9 = 18\n",
      "9 * 9 = 81\n",
      "9 / 9 = 1\n",
      "\n",
      "(9, 3)\n",
      "9 + 3 = 12\n",
      "9 * 3 = 27\n",
      "9 - 3 = 6\n",
      "9 / 3 = 3\n",
      "\n",
      "(9, 8)\n",
      "9 + 8 = 17\n",
      "9 * 8 = 72\n",
      "9 - 8 = 1\n",
      "\n",
      "(9, 100)\n",
      "9 + 100 = 109\n",
      "9 * 100 = 900\n",
      "\n",
      "(9, 25)\n",
      "9 + 25 = 34\n",
      "9 * 25 = 225\n",
      "\n",
      "(9, 9)\n",
      "9 + 9 = 18\n",
      "9 * 9 = 81\n",
      "9 / 9 = 1\n",
      "\n",
      "(9, 3)\n",
      "9 + 3 = 12\n",
      "9 * 3 = 27\n",
      "9 - 3 = 6\n",
      "9 / 3 = 3\n",
      "\n",
      "(9, 8)\n",
      "9 + 8 = 17\n",
      "9 * 8 = 72\n",
      "9 - 8 = 1\n",
      "\n",
      "(3, 100)\n",
      "3 + 100 = 103\n",
      "3 * 100 = 300\n",
      "\n",
      "(3, 25)\n",
      "3 + 25 = 28\n",
      "3 * 25 = 75\n",
      "\n",
      "(3, 9)\n",
      "3 + 9 = 12\n",
      "3 * 9 = 27\n",
      "\n",
      "(3, 9)\n",
      "3 + 9 = 12\n",
      "3 * 9 = 27\n",
      "\n",
      "(3, 8)\n",
      "3 + 8 = 11\n",
      "3 * 8 = 24\n",
      "\n",
      "(8, 100)\n",
      "8 + 100 = 108\n",
      "8 * 100 = 800\n",
      "\n",
      "(8, 25)\n",
      "8 + 25 = 33\n",
      "8 * 25 = 200\n",
      "\n",
      "(8, 9)\n",
      "8 + 9 = 17\n",
      "8 * 9 = 72\n",
      "\n",
      "(8, 9)\n",
      "8 + 9 = 17\n",
      "8 * 9 = 72\n",
      "\n",
      "(8, 3)\n",
      "8 + 3 = 11\n",
      "8 * 3 = 24\n",
      "8 - 3 = 5\n",
      "\n"
     ]
    }
   ],
   "source": [
    "# Looping through all permutations of two playing numbers.\n",
    "for p in it.permutations(play_nos, 2):\n",
    "  # Print the two numbers.\n",
    "  print(p)\n",
    "  # Print their sum.\n",
    "  print(f'{p[0]} + {p[1]} = {p[0]+p[1]}')\n",
    "  # Print their product.\n",
    "  print(f'{p[0]} * {p[1]} = {p[0]*p[1]}')\n",
    "  # Print their difference if it is positive.\n",
    "  if p[0] - p[1] > 0:\n",
    "    print(f'{p[0]} - {p[1]} = {p[0]-p[1]}')\n",
    "  # Print their quotient if it is an integer.\n",
    "  if p[0] % p[1] == 0:\n",
    "    print(f'{p[0]} / {p[1]} = {p[0]//p[1]}')\n",
    "  # Print a blank line.\n",
    "  print()"
   ]
  },
  {
   "cell_type": "code",
   "execution_count": null,
   "id": "49ba3c04-f135-41df-adeb-f46be8e61088",
   "metadata": {},
   "outputs": [],
   "source": []
  },
  {
   "cell_type": "code",
   "execution_count": null,
   "id": "5adf888f-3b12-406d-8420-f589c2350b2d",
   "metadata": {},
   "outputs": [],
   "source": []
  },
  {
   "cell_type": "markdown",
   "id": "ac8fb9b7-480f-43d8-98eb-46fff1f367a1",
   "metadata": {},
   "source": [
    "## References\n",
    "\n",
    "***"
   ]
  },
  {
   "cell_type": "markdown",
   "id": "c22468f5-e5c9-4d3e-9e5c-9486dadebe62",
   "metadata": {},
   "source": [
    "[1] [Countdown Gameshow](https://en.wikipedia.org/wiki/Countdown_(game_show))"
   ]
  }
 ],
 "metadata": {
  "kernelspec": {
   "display_name": "Python 3 (ipykernel)",
   "language": "python",
   "name": "python3"
  },
  "language_info": {
   "codemirror_mode": {
    "name": "ipython",
    "version": 3
   },
   "file_extension": ".py",
   "mimetype": "text/x-python",
   "name": "python",
   "nbconvert_exporter": "python",
   "pygments_lexer": "ipython3",
   "version": "3.9.7"
  }
 },
 "nbformat": 4,
 "nbformat_minor": 5
}
