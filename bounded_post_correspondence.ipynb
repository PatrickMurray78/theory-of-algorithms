{
 "cells": [
  {
   "cell_type": "markdown",
   "id": "286b4018-944a-4e60-ae2b-97176c64d990",
   "metadata": {},
   "source": [
    "# Bounded Post Correspondence Problem\n",
    "\n",
    "The Bounded Post Correspondence Problem is a variant of the [Post Correspondence Problem](https://en.wikipedia.org/wiki/Post_correspondence_problem). \n",
    "\n",
    "Given a list of strings, determine whether we can create two identical strings given a maximum length of $k$ elements.\n",
    "\n",
    "$$ |S| \\leq K \\qquad K \\in \\mathbb{N} $$"
   ]
  },
  {
   "cell_type": "markdown",
   "id": "b8083ca3-9962-4650-9519-cc1aef2bce89",
   "metadata": {},
   "source": [
    "## Setup"
   ]
  },
  {
   "cell_type": "code",
   "execution_count": 23,
   "id": "f1a3b91b-4f81-49e8-a9c3-7da13ac5ff69",
   "metadata": {},
   "outputs": [],
   "source": [
    "from itertools import product"
   ]
  },
  {
   "cell_type": "code",
   "execution_count": 2,
   "id": "1537a004-bf90-4f3d-adaf-71fecb30d29b",
   "metadata": {},
   "outputs": [],
   "source": [
    "A = ['a', 'b']"
   ]
  },
  {
   "cell_type": "code",
   "execution_count": 3,
   "id": "328eb45a-eaad-4134-ada7-eee7dba230c9",
   "metadata": {},
   "outputs": [],
   "source": [
    "L1 = ['a', 'ab', 'bba']"
   ]
  },
  {
   "cell_type": "code",
   "execution_count": 4,
   "id": "701c3f9b-17ce-45ef-a64d-4884edab2526",
   "metadata": {},
   "outputs": [],
   "source": [
    "L2 = ['baa', 'aa', 'bb']"
   ]
  },
  {
   "cell_type": "code",
   "execution_count": 5,
   "id": "84ca52f3-a252-4d9a-887d-a7ff2626a102",
   "metadata": {},
   "outputs": [],
   "source": [
    "L3 = ['0101', '11', '101']"
   ]
  },
  {
   "cell_type": "code",
   "execution_count": 6,
   "id": "85136a88-4e59-40fd-aeaa-ee2728c4848f",
   "metadata": {},
   "outputs": [],
   "source": [
    "L4 = ['11101', '10', '10101']"
   ]
  },
  {
   "cell_type": "markdown",
   "id": "4a8540b5-62d9-4c59-a12e-66fa42b326fd",
   "metadata": {},
   "source": [
    "## Get the Cartesian Product\n",
    "\n",
    "The [Cartesian Product](https://en.wikipedia.org/wiki/Cartesian_product) is a set that is constructed from two given sets and comprises all pairs of elements, which means it gets all possible combinations of the given two sets.\n",
    "\n",
    "The function below gets all the possible cartesian products of $l$, but it only does so $k$ times."
   ]
  },
  {
   "cell_type": "code",
   "execution_count": 24,
   "id": "34617541-6ac6-44c0-8d86-6f17887cd474",
   "metadata": {},
   "outputs": [],
   "source": [
    "def cartesian_product(l, K):\n",
    "    l1 = []\n",
    "    # Find the cartesian product of list\n",
    "    for i in range(1, K+1): # Add 1 to k as range goes up to the second paramater\n",
    "        for roll in product(l, repeat = i):\n",
    "            joined_roll=''.join(roll)\n",
    "            # Use hashing to make it more efficient\n",
    "            lst.append(hash(joined_roll))\n",
    "    return lst"
   ]
  },
  {
   "cell_type": "code",
   "execution_count": 9,
   "id": "7ad8884a-cc79-499e-b7ad-19f206bfcd73",
   "metadata": {},
   "outputs": [],
   "source": [
    "def bpcp_solver(L1, L2, K):\n",
    "    for x in cartesian_product(L1, K):\n",
    "        for y in cartesian_product(L2, K):\n",
    "            if x==y:\n",
    "                return True\n",
    "    return False"
   ]
  },
  {
   "cell_type": "code",
   "execution_count": 18,
   "id": "cca599f0-8471-4974-8637-0e9781dda3c4",
   "metadata": {},
   "outputs": [
    {
     "name": "stdout",
     "output_type": "stream",
     "text": [
      "True\n"
     ]
    }
   ],
   "source": [
    "print(bpcp_solver(L1, L2, 3))"
   ]
  },
  {
   "cell_type": "code",
   "execution_count": 19,
   "id": "cf737c06-4c47-45d2-8e41-9b077b7635a5",
   "metadata": {},
   "outputs": [
    {
     "name": "stdout",
     "output_type": "stream",
     "text": [
      "True\n"
     ]
    }
   ],
   "source": [
    "print(bpcp_solver(L3, L4, 3))"
   ]
  },
  {
   "cell_type": "code",
   "execution_count": 22,
   "id": "6b3a8fe0-3f4a-4133-93d6-12fba15cb1ae",
   "metadata": {},
   "outputs": [
    {
     "name": "stdout",
     "output_type": "stream",
     "text": [
      "False\n"
     ]
    }
   ],
   "source": [
    "print(bpcp_solver(L1, L4, 4))"
   ]
  },
  {
   "cell_type": "code",
   "execution_count": null,
   "id": "6395a652-09a7-4310-a872-65a7e208a257",
   "metadata": {},
   "outputs": [],
   "source": []
  }
 ],
 "metadata": {
  "kernelspec": {
   "display_name": "Python 3 (ipykernel)",
   "language": "python",
   "name": "python3"
  },
  "language_info": {
   "codemirror_mode": {
    "name": "ipython",
    "version": 3
   },
   "file_extension": ".py",
   "mimetype": "text/x-python",
   "name": "python",
   "nbconvert_exporter": "python",
   "pygments_lexer": "ipython3",
   "version": "3.9.7"
  }
 },
 "nbformat": 4,
 "nbformat_minor": 5
}
